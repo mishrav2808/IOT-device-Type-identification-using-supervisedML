{
 "cells": [
  {
   "cell_type": "markdown",
   "id": "769c6ddd",
   "metadata": {},
   "source": [
    "# IoT Device-Type Identification Using Supervised Machine Learning"
   ]
  },
  {
   "cell_type": "code",
   "execution_count": 1,
   "id": "b61a76ea",
   "metadata": {},
   "outputs": [],
   "source": [
    "# Importing Relevant Packages\n",
    "from warnings import simplefilter\n",
    "import numpy as np\n",
    "import pandas as pd\n",
    "import sklearn\n",
    "from sklearn import datasets\n",
    "from sklearn.naive_bayes import GaussianNB\n",
    "from sklearn.tree import DecisionTreeRegressor\n",
    "from sklearn.ensemble import RandomForestClassifier\n",
    "from sklearn.linear_model import LogisticRegression\n",
    "from sklearn.tree import DecisionTreeClassifier\n",
    "from sklearn.metrics import (accuracy_score, confusion_matrix, f1_score,\n",
    "                             precision_score, recall_score,plot_confusion_matrix,classification_report)\n",
    "from sklearn.model_selection import train_test_split\n",
    "from sklearn.preprocessing import LabelEncoder, StandardScaler\n",
    "\n",
    "simplefilter(action='ignore', category=FutureWarning)"
   ]
  },
  {
   "cell_type": "code",
   "execution_count": 21,
   "id": "c3b47dde",
   "metadata": {},
   "outputs": [
    {
     "data": {
      "text/html": [
       "<div>\n",
       "<style scoped>\n",
       "    .dataframe tbody tr th:only-of-type {\n",
       "        vertical-align: middle;\n",
       "    }\n",
       "\n",
       "    .dataframe tbody tr th {\n",
       "        vertical-align: top;\n",
       "    }\n",
       "\n",
       "    .dataframe thead th {\n",
       "        text-align: right;\n",
       "    }\n",
       "</style>\n",
       "<table border=\"1\" class=\"dataframe\">\n",
       "  <thead>\n",
       "    <tr style=\"text-align: right;\">\n",
       "      <th></th>\n",
       "      <th>Label</th>\n",
       "      <th>IPLength</th>\n",
       "      <th>IPHeaderLength</th>\n",
       "      <th>TTL</th>\n",
       "      <th>Protocol</th>\n",
       "      <th>SourcePort</th>\n",
       "      <th>DestPort</th>\n",
       "      <th>SequenceNumber</th>\n",
       "      <th>AckNumber</th>\n",
       "      <th>WindowSize</th>\n",
       "      <th>TCPHeaderLength</th>\n",
       "      <th>TCPLength</th>\n",
       "      <th>TCPStream</th>\n",
       "      <th>TCPUrgentPointer</th>\n",
       "      <th>IPFlags</th>\n",
       "      <th>IPID</th>\n",
       "      <th>IPchecksum</th>\n",
       "      <th>TCPflags</th>\n",
       "      <th>TCPChecksum</th>\n",
       "    </tr>\n",
       "  </thead>\n",
       "  <tbody>\n",
       "    <tr>\n",
       "      <th>0</th>\n",
       "      <td>D-LinkCam</td>\n",
       "      <td>60</td>\n",
       "      <td>20</td>\n",
       "      <td>64</td>\n",
       "      <td>6</td>\n",
       "      <td>42254</td>\n",
       "      <td>443</td>\n",
       "      <td>0</td>\n",
       "      <td>0</td>\n",
       "      <td>5840</td>\n",
       "      <td>40</td>\n",
       "      <td>0</td>\n",
       "      <td>0</td>\n",
       "      <td>0</td>\n",
       "      <td>0x40</td>\n",
       "      <td>0x0e39</td>\n",
       "      <td>0x8dab</td>\n",
       "      <td>0x0002</td>\n",
       "      <td>0x322e</td>\n",
       "    </tr>\n",
       "    <tr>\n",
       "      <th>1</th>\n",
       "      <td>D-LinkCam</td>\n",
       "      <td>60</td>\n",
       "      <td>20</td>\n",
       "      <td>41</td>\n",
       "      <td>6</td>\n",
       "      <td>443</td>\n",
       "      <td>42254</td>\n",
       "      <td>0</td>\n",
       "      <td>1</td>\n",
       "      <td>5792</td>\n",
       "      <td>40</td>\n",
       "      <td>0</td>\n",
       "      <td>0</td>\n",
       "      <td>0</td>\n",
       "      <td>0x40</td>\n",
       "      <td>0x0000</td>\n",
       "      <td>0xb2dc</td>\n",
       "      <td>0x0012</td>\n",
       "      <td>0x50a7</td>\n",
       "    </tr>\n",
       "    <tr>\n",
       "      <th>2</th>\n",
       "      <td>D-LinkCam</td>\n",
       "      <td>52</td>\n",
       "      <td>20</td>\n",
       "      <td>64</td>\n",
       "      <td>6</td>\n",
       "      <td>42254</td>\n",
       "      <td>443</td>\n",
       "      <td>1</td>\n",
       "      <td>1</td>\n",
       "      <td>2920</td>\n",
       "      <td>32</td>\n",
       "      <td>0</td>\n",
       "      <td>0</td>\n",
       "      <td>0</td>\n",
       "      <td>0x40</td>\n",
       "      <td>0x0e3a</td>\n",
       "      <td>0x8db2</td>\n",
       "      <td>0x0010</td>\n",
       "      <td>0x8a4c</td>\n",
       "    </tr>\n",
       "    <tr>\n",
       "      <th>3</th>\n",
       "      <td>D-LinkCam</td>\n",
       "      <td>179</td>\n",
       "      <td>20</td>\n",
       "      <td>64</td>\n",
       "      <td>6</td>\n",
       "      <td>42254</td>\n",
       "      <td>443</td>\n",
       "      <td>1</td>\n",
       "      <td>1</td>\n",
       "      <td>2920</td>\n",
       "      <td>32</td>\n",
       "      <td>127</td>\n",
       "      <td>0</td>\n",
       "      <td>0</td>\n",
       "      <td>0x40</td>\n",
       "      <td>0x0e3b</td>\n",
       "      <td>0x8d32</td>\n",
       "      <td>0x0018</td>\n",
       "      <td>0xde49</td>\n",
       "    </tr>\n",
       "    <tr>\n",
       "      <th>4</th>\n",
       "      <td>D-LinkCam</td>\n",
       "      <td>52</td>\n",
       "      <td>20</td>\n",
       "      <td>41</td>\n",
       "      <td>6</td>\n",
       "      <td>443</td>\n",
       "      <td>42254</td>\n",
       "      <td>1</td>\n",
       "      <td>128</td>\n",
       "      <td>12</td>\n",
       "      <td>32</td>\n",
       "      <td>0</td>\n",
       "      <td>0</td>\n",
       "      <td>0</td>\n",
       "      <td>0x40</td>\n",
       "      <td>0x5419</td>\n",
       "      <td>0x5ecb</td>\n",
       "      <td>0x0010</td>\n",
       "      <td>0x9509</td>\n",
       "    </tr>\n",
       "  </tbody>\n",
       "</table>\n",
       "</div>"
      ],
      "text/plain": [
       "       Label  IPLength  IPHeaderLength  TTL             Protocol  SourcePort  \\\n",
       "0  D-LinkCam        60              20   64                    6       42254   \n",
       "1  D-LinkCam        60              20   41                    6         443   \n",
       "2  D-LinkCam        52              20   64                    6       42254   \n",
       "3  D-LinkCam       179              20   64                    6       42254   \n",
       "4  D-LinkCam        52              20   41                    6         443   \n",
       "\n",
       "   DestPort  SequenceNumber  AckNumber             WindowSize  \\\n",
       "0       443               0                     0        5840   \n",
       "1     42254               0                     1        5792   \n",
       "2       443               1                     1        2920   \n",
       "3       443               1                     1        2920   \n",
       "4     42254               1                   128          12   \n",
       "\n",
       "   TCPHeaderLength  TCPLength  TCPStream       TCPUrgentPointer IPFlags  \\\n",
       "0               40          0               0                 0    0x40   \n",
       "1               40          0               0                 0    0x40   \n",
       "2               32          0               0                 0    0x40   \n",
       "3               32        127               0                 0    0x40   \n",
       "4               32          0               0                 0    0x40   \n",
       "\n",
       "     IPID IPchecksum TCPflags TCPChecksum  \n",
       "0  0x0e39     0x8dab   0x0002      0x322e  \n",
       "1  0x0000     0xb2dc   0x0012      0x50a7  \n",
       "2  0x0e3a     0x8db2   0x0010      0x8a4c  \n",
       "3  0x0e3b     0x8d32   0x0018      0xde49  \n",
       "4  0x5419     0x5ecb   0x0010      0x9509  "
      ]
     },
     "execution_count": 21,
     "metadata": {},
     "output_type": "execute_result"
    }
   ],
   "source": [
    "data = pd.read_csv('feature_extraction/IOT_label_feature.csv')\n",
    "data.head()"
   ]
  },
  {
   "cell_type": "code",
   "execution_count": 3,
   "id": "69c90adc",
   "metadata": {
    "scrolled": true
   },
   "outputs": [
    {
     "data": {
      "text/plain": [
       "(57166, 19)"
      ]
     },
     "execution_count": 3,
     "metadata": {},
     "output_type": "execute_result"
    }
   ],
   "source": [
    "data.shape"
   ]
  },
  {
   "cell_type": "code",
   "execution_count": 4,
   "id": "1463f5d0",
   "metadata": {
    "scrolled": true
   },
   "outputs": [
    {
     "data": {
      "text/plain": [
       "Label\n",
       "D-LinkCam             2075\n",
       "D-LinkDoorSensor      3634\n",
       "D-LinkHomeHub        12252\n",
       "D-LinkSensor          9988\n",
       "D-LinkSiren           9174\n",
       "D-LinkSwitch         10783\n",
       "D-LinkWaterSensor     9260\n",
       "Name: Label, dtype: int64"
      ]
     },
     "execution_count": 4,
     "metadata": {},
     "output_type": "execute_result"
    }
   ],
   "source": [
    "data.groupby('Label')['Label'].count()"
   ]
  },
  {
   "cell_type": "code",
   "execution_count": 5,
   "id": "83d53694",
   "metadata": {},
   "outputs": [
    {
     "data": {
      "text/plain": [
       "Index(['Label', 'IPLength', 'IPHeaderLength', 'TTL', '           Protocol',\n",
       "       'SourcePort', 'DestPort', 'SequenceNumber', 'AckNumber           ',\n",
       "       'WindowSize', 'TCPHeaderLength', 'TCPLength', 'TCPStream     ',\n",
       "       'TCPUrgentPointer', 'IPFlags', 'IPID', 'IPchecksum', 'TCPflags',\n",
       "       'TCPChecksum'],\n",
       "      dtype='object')"
      ]
     },
     "execution_count": 5,
     "metadata": {},
     "output_type": "execute_result"
    }
   ],
   "source": [
    "data.columns"
   ]
  },
  {
   "cell_type": "code",
   "execution_count": 6,
   "id": "5753d95d",
   "metadata": {},
   "outputs": [
    {
     "name": "stdout",
     "output_type": "stream",
     "text": [
      "<class 'pandas.core.frame.DataFrame'>\n",
      "RangeIndex: 57166 entries, 0 to 57165\n",
      "Data columns (total 19 columns):\n",
      " #   Column                Non-Null Count  Dtype \n",
      "---  ------                --------------  ----- \n",
      " 0   Label                 57166 non-null  object\n",
      " 1   IPLength              57166 non-null  int64 \n",
      " 2   IPHeaderLength        57166 non-null  int64 \n",
      " 3   TTL                   57166 non-null  int64 \n",
      " 4              Protocol   57166 non-null  int64 \n",
      " 5   SourcePort            57166 non-null  int64 \n",
      " 6   DestPort              57166 non-null  int64 \n",
      " 7   SequenceNumber        57166 non-null  int64 \n",
      " 8   AckNumber             57166 non-null  int64 \n",
      " 9   WindowSize            57166 non-null  int64 \n",
      " 10  TCPHeaderLength       57166 non-null  int64 \n",
      " 11  TCPLength             57166 non-null  int64 \n",
      " 12  TCPStream             57166 non-null  int64 \n",
      " 13  TCPUrgentPointer      57166 non-null  int64 \n",
      " 14  IPFlags               57166 non-null  object\n",
      " 15  IPID                  57166 non-null  object\n",
      " 16  IPchecksum            57166 non-null  object\n",
      " 17  TCPflags              57166 non-null  object\n",
      " 18  TCPChecksum           57166 non-null  object\n",
      "dtypes: int64(13), object(6)\n",
      "memory usage: 8.3+ MB\n"
     ]
    }
   ],
   "source": [
    "data.info()"
   ]
  },
  {
   "cell_type": "code",
   "execution_count": 7,
   "id": "aa264b25",
   "metadata": {},
   "outputs": [],
   "source": [
    "feature=data.iloc[:,1:]\n",
    "target= data.iloc[:,0]"
   ]
  },
  {
   "cell_type": "code",
   "execution_count": 8,
   "id": "f522d4b0",
   "metadata": {},
   "outputs": [],
   "source": [
    "#coverting hexadecimal values to decimal\n",
    "for c in range(-5,0):\n",
    "    strcol = feature.iloc[:,c].apply(str)\n",
    "    intcol = strcol.apply(int, base=16)\n",
    "    feature.iloc[:,c] = intcol"
   ]
  },
  {
   "cell_type": "code",
   "execution_count": 9,
   "id": "08df5e55",
   "metadata": {},
   "outputs": [
    {
     "data": {
      "text/html": [
       "<div>\n",
       "<style scoped>\n",
       "    .dataframe tbody tr th:only-of-type {\n",
       "        vertical-align: middle;\n",
       "    }\n",
       "\n",
       "    .dataframe tbody tr th {\n",
       "        vertical-align: top;\n",
       "    }\n",
       "\n",
       "    .dataframe thead th {\n",
       "        text-align: right;\n",
       "    }\n",
       "</style>\n",
       "<table border=\"1\" class=\"dataframe\">\n",
       "  <thead>\n",
       "    <tr style=\"text-align: right;\">\n",
       "      <th></th>\n",
       "      <th>IPLength</th>\n",
       "      <th>IPHeaderLength</th>\n",
       "      <th>TTL</th>\n",
       "      <th>Protocol</th>\n",
       "      <th>SourcePort</th>\n",
       "      <th>DestPort</th>\n",
       "      <th>SequenceNumber</th>\n",
       "      <th>AckNumber</th>\n",
       "      <th>WindowSize</th>\n",
       "      <th>TCPHeaderLength</th>\n",
       "      <th>TCPLength</th>\n",
       "      <th>TCPStream</th>\n",
       "      <th>TCPUrgentPointer</th>\n",
       "      <th>IPFlags</th>\n",
       "      <th>IPID</th>\n",
       "      <th>IPchecksum</th>\n",
       "      <th>TCPflags</th>\n",
       "      <th>TCPChecksum</th>\n",
       "    </tr>\n",
       "  </thead>\n",
       "  <tbody>\n",
       "    <tr>\n",
       "      <th>0</th>\n",
       "      <td>60</td>\n",
       "      <td>20</td>\n",
       "      <td>64</td>\n",
       "      <td>6</td>\n",
       "      <td>42254</td>\n",
       "      <td>443</td>\n",
       "      <td>0</td>\n",
       "      <td>0</td>\n",
       "      <td>5840</td>\n",
       "      <td>40</td>\n",
       "      <td>0</td>\n",
       "      <td>0</td>\n",
       "      <td>0</td>\n",
       "      <td>64</td>\n",
       "      <td>3641</td>\n",
       "      <td>36267</td>\n",
       "      <td>2</td>\n",
       "      <td>12846</td>\n",
       "    </tr>\n",
       "    <tr>\n",
       "      <th>1</th>\n",
       "      <td>60</td>\n",
       "      <td>20</td>\n",
       "      <td>41</td>\n",
       "      <td>6</td>\n",
       "      <td>443</td>\n",
       "      <td>42254</td>\n",
       "      <td>0</td>\n",
       "      <td>1</td>\n",
       "      <td>5792</td>\n",
       "      <td>40</td>\n",
       "      <td>0</td>\n",
       "      <td>0</td>\n",
       "      <td>0</td>\n",
       "      <td>64</td>\n",
       "      <td>0</td>\n",
       "      <td>45788</td>\n",
       "      <td>18</td>\n",
       "      <td>20647</td>\n",
       "    </tr>\n",
       "    <tr>\n",
       "      <th>2</th>\n",
       "      <td>52</td>\n",
       "      <td>20</td>\n",
       "      <td>64</td>\n",
       "      <td>6</td>\n",
       "      <td>42254</td>\n",
       "      <td>443</td>\n",
       "      <td>1</td>\n",
       "      <td>1</td>\n",
       "      <td>2920</td>\n",
       "      <td>32</td>\n",
       "      <td>0</td>\n",
       "      <td>0</td>\n",
       "      <td>0</td>\n",
       "      <td>64</td>\n",
       "      <td>3642</td>\n",
       "      <td>36274</td>\n",
       "      <td>16</td>\n",
       "      <td>35404</td>\n",
       "    </tr>\n",
       "    <tr>\n",
       "      <th>3</th>\n",
       "      <td>179</td>\n",
       "      <td>20</td>\n",
       "      <td>64</td>\n",
       "      <td>6</td>\n",
       "      <td>42254</td>\n",
       "      <td>443</td>\n",
       "      <td>1</td>\n",
       "      <td>1</td>\n",
       "      <td>2920</td>\n",
       "      <td>32</td>\n",
       "      <td>127</td>\n",
       "      <td>0</td>\n",
       "      <td>0</td>\n",
       "      <td>64</td>\n",
       "      <td>3643</td>\n",
       "      <td>36146</td>\n",
       "      <td>24</td>\n",
       "      <td>56905</td>\n",
       "    </tr>\n",
       "    <tr>\n",
       "      <th>4</th>\n",
       "      <td>52</td>\n",
       "      <td>20</td>\n",
       "      <td>41</td>\n",
       "      <td>6</td>\n",
       "      <td>443</td>\n",
       "      <td>42254</td>\n",
       "      <td>1</td>\n",
       "      <td>128</td>\n",
       "      <td>12</td>\n",
       "      <td>32</td>\n",
       "      <td>0</td>\n",
       "      <td>0</td>\n",
       "      <td>0</td>\n",
       "      <td>64</td>\n",
       "      <td>21529</td>\n",
       "      <td>24267</td>\n",
       "      <td>16</td>\n",
       "      <td>38153</td>\n",
       "    </tr>\n",
       "  </tbody>\n",
       "</table>\n",
       "</div>"
      ],
      "text/plain": [
       "   IPLength  IPHeaderLength  TTL             Protocol  SourcePort  DestPort  \\\n",
       "0        60              20   64                    6       42254       443   \n",
       "1        60              20   41                    6         443     42254   \n",
       "2        52              20   64                    6       42254       443   \n",
       "3       179              20   64                    6       42254       443   \n",
       "4        52              20   41                    6         443     42254   \n",
       "\n",
       "   SequenceNumber  AckNumber             WindowSize  TCPHeaderLength  \\\n",
       "0               0                     0        5840               40   \n",
       "1               0                     1        5792               40   \n",
       "2               1                     1        2920               32   \n",
       "3               1                     1        2920               32   \n",
       "4               1                   128          12               32   \n",
       "\n",
       "   TCPLength  TCPStream       TCPUrgentPointer  IPFlags   IPID  IPchecksum  \\\n",
       "0          0               0                 0       64   3641       36267   \n",
       "1          0               0                 0       64      0       45788   \n",
       "2          0               0                 0       64   3642       36274   \n",
       "3        127               0                 0       64   3643       36146   \n",
       "4          0               0                 0       64  21529       24267   \n",
       "\n",
       "   TCPflags  TCPChecksum  \n",
       "0         2        12846  \n",
       "1        18        20647  \n",
       "2        16        35404  \n",
       "3        24        56905  \n",
       "4        16        38153  "
      ]
     },
     "execution_count": 9,
     "metadata": {},
     "output_type": "execute_result"
    }
   ],
   "source": [
    "feature.head()"
   ]
  },
  {
   "cell_type": "code",
   "execution_count": 10,
   "id": "351e65f4",
   "metadata": {},
   "outputs": [],
   "source": [
    "#LabelEncoder can transform non-numerical labels to numerical labels.\n",
    "labels = LabelEncoder().fit_transform(target)\n",
    "#StandardScaler can standardize the features by removing the mean and scaling to unit variance.\n",
    "feature_std = StandardScaler().fit_transform(feature)\n",
    "x_train, x_test, y_train, y_test = train_test_split(feature_std, labels, test_size=0.25, random_state=0)\n"
   ]
  },
  {
   "cell_type": "code",
   "execution_count": 11,
   "id": "d6113893",
   "metadata": {},
   "outputs": [],
   "source": [
    "def print_stats_metrics(model,x_test,y_test, y_pred):    \n",
    "    print('Accuracy: %.3f' % accuracy_score(y_test,y_pred) )\n",
    "    plot_confusion_matrix(model,x_test,y_test)\n",
    "    print('Precision: %.3f' % precision_score(y_true=y_test, y_pred=y_pred,average='weighted'))\n",
    "    print('Recall: %.3f' % recall_score(y_true=y_test, y_pred=y_pred,average='weighted'))\n",
    "    print('F1-measure: %.3f' % f1_score(y_true=y_test, y_pred=y_pred,average='weighted'))\n"
   ]
  },
  {
   "cell_type": "code",
   "execution_count": 22,
   "id": "8ed73d7e",
   "metadata": {},
   "outputs": [
    {
     "name": "stdout",
     "output_type": "stream",
     "text": [
      "#Logistic Regression#\n"
     ]
    },
    {
     "name": "stderr",
     "output_type": "stream",
     "text": [
      "C:\\Users\\AK Mishra\\anaconda3\\lib\\site-packages\\sklearn\\linear_model\\_logistic.py:763: ConvergenceWarning: lbfgs failed to converge (status=1):\n",
      "STOP: TOTAL NO. of ITERATIONS REACHED LIMIT.\n",
      "\n",
      "Increase the number of iterations (max_iter) or scale the data as shown in:\n",
      "    https://scikit-learn.org/stable/modules/preprocessing.html\n",
      "Please also refer to the documentation for alternative solver options:\n",
      "    https://scikit-learn.org/stable/modules/linear_model.html#logistic-regression\n",
      "  n_iter_i = _check_optimize_result(\n"
     ]
    },
    {
     "name": "stdout",
     "output_type": "stream",
     "text": [
      "Accuracy: 0.327\n",
      "Precision: 0.315\n",
      "Recall: 0.327\n",
      "F1-measure: 0.309\n"
     ]
    },
    {
     "data": {
      "image/png": "[encoded data removed]",
      "text/plain": [
       "<Figure size 432x288 with 2 Axes>"
      ]
     },
     "metadata": {
      "needs_background": "light"
     },
     "output_type": "display_data"
    }
   ],
   "source": [
    "print(\"#Logistic Regression#\")\n",
    "clfLog = LogisticRegression(multi_class='multinomial')\n",
    "clfLog.fit(x_train,y_train)\n",
    "predictions = clfLog.predict(x_test)\n",
    "print_stats_metrics(clfLog,x_test,y_test, predictions)"
   ]
  },
  {
   "cell_type": "code",
   "execution_count": 27,
   "id": "94ec0d56",
   "metadata": {},
   "outputs": [
    {
     "name": "stdout",
     "output_type": "stream",
     "text": [
      "#Random Forest#\n",
      "Accuracy: 0.954\n",
      "Precision: 0.954\n",
      "Recall: 0.954\n",
      "F1-measure: 0.954\n"
     ]
    },
    {
     "data": {
      "image/png": "[encoded data removed]",
      "text/plain": [
       "<Figure size 432x288 with 2 Axes>"
      ]
     },
     "metadata": {
      "needs_background": "light"
     },
     "output_type": "display_data"
    }
   ],
   "source": [
    "print(\"#Random Forest#\")\n",
    "clfRandForest = RandomForestClassifier()\n",
    "clfRandForest.fit(x_train,y_train)\n",
    "predictions = clfRandForest.predict(x_test)\n",
    "print_stats_metrics(clfRandForest,x_test,y_test, predictions)"
   ]
  },
  {
   "cell_type": "code",
   "execution_count": 28,
   "id": "30e6068e",
   "metadata": {},
   "outputs": [
    {
     "name": "stdout",
     "output_type": "stream",
     "text": [
      "##Decision Tree#\n",
      "Accuracy: 0.960\n",
      "Precision: 0.960\n",
      "Recall: 0.960\n",
      "F1-measure: 0.960\n"
     ]
    },
    {
     "data": {
      "image/png": "[encoded data removed]",
      "text/plain": [
       "<Figure size 432x288 with 2 Axes>"
      ]
     },
     "metadata": {
      "needs_background": "light"
     },
     "output_type": "display_data"
    }
   ],
   "source": [
    "print(\"##Decision Tree#\")\n",
    "clfDT = DecisionTreeClassifier()\n",
    "clfDT.fit(x_train,y_train)\n",
    "predictions = clfDT.predict(x_test)\n",
    "print_stats_metrics(clfDT,x_test,y_test, predictions)"
   ]
  },
  {
   "cell_type": "code",
   "execution_count": 29,
   "id": "c59b1bf1",
   "metadata": {},
   "outputs": [
    {
     "name": "stdout",
     "output_type": "stream",
     "text": [
      "#Naive Bayes#\n",
      "Accuracy: 0.257\n",
      "Precision: 0.382\n",
      "Recall: 0.257\n",
      "F1-measure: 0.278\n"
     ]
    },
    {
     "data": {
      "image/png": "[encoded data removed]",
      "text/plain": [
       "<Figure size 432x288 with 2 Axes>"
      ]
     },
     "metadata": {
      "needs_background": "light"
     },
     "output_type": "display_data"
    }
   ],
   "source": [
    "print(\"#Naive Bayes#\")\n",
    "clfNB = GaussianNB()\n",
    "clfNB.fit(x_train,y_train)\n",
    "predictions = clfNB.predict(x_test)\n",
    "print_stats_metrics(clfNB,x_test,y_test, predictions)"
   ]
  },
  {
   "cell_type": "markdown",
   "id": "5259b33b",
   "metadata": {},
   "source": [
    "# ---------------------------------------------------------------------------------------------------"
   ]
  }
 ],
 "metadata": {
  "kernelspec": {
   "display_name": "Python 3",
   "language": "python",
   "name": "python3"
  },
  "language_info": {
   "codemirror_mode": {
    "name": "ipython",
    "version": 3
   },
   "file_extension": ".py",
   "mimetype": "text/x-python",
   "name": "python",
   "nbconvert_exporter": "python",
   "pygments_lexer": "ipython3",
   "version": "3.8.8"
  }
 },
 "nbformat": 4,
 "nbformat_minor": 5
}
